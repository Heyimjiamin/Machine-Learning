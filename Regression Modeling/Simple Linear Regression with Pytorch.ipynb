{
 "cells": [
  {
   "cell_type": "markdown",
   "id": "0bf8668c",
   "metadata": {},
   "source": [
    "# Simple Linear Regression Model via PyTorch\n",
    "The goal of the model is to predict salaries based on years of work experience. A neural network model is created using PyTorch as a simple linear regression model. The Stochastic Gradient Descent (SGD) is adopted as an optimizer, and the cost function is defined using Mean Squared Error (MSE)."
   ]
  },
  {
   "cell_type": "markdown",
   "id": "cfcf2ed7",
   "metadata": {},
   "source": [
    "## 1. Import data "
   ]
  },
  {
   "cell_type": "code",
   "execution_count": 1,
   "id": "90e3f4d1",
   "metadata": {
    "scrolled": true
   },
   "outputs": [
    {
     "data": {
      "text/html": [
       "<div>\n",
       "<style scoped>\n",
       "    .dataframe tbody tr th:only-of-type {\n",
       "        vertical-align: middle;\n",
       "    }\n",
       "\n",
       "    .dataframe tbody tr th {\n",
       "        vertical-align: top;\n",
       "    }\n",
       "\n",
       "    .dataframe thead th {\n",
       "        text-align: right;\n",
       "    }\n",
       "</style>\n",
       "<table border=\"1\" class=\"dataframe\">\n",
       "  <thead>\n",
       "    <tr style=\"text-align: right;\">\n",
       "      <th></th>\n",
       "      <th>YearsExperience</th>\n",
       "      <th>Salary</th>\n",
       "    </tr>\n",
       "  </thead>\n",
       "  <tbody>\n",
       "    <tr>\n",
       "      <th>0</th>\n",
       "      <td>0.3</td>\n",
       "      <td>36.2</td>\n",
       "    </tr>\n",
       "    <tr>\n",
       "      <th>1</th>\n",
       "      <td>0.6</td>\n",
       "      <td>36.6</td>\n",
       "    </tr>\n",
       "    <tr>\n",
       "      <th>2</th>\n",
       "      <td>0.8</td>\n",
       "      <td>42.8</td>\n",
       "    </tr>\n",
       "    <tr>\n",
       "      <th>3</th>\n",
       "      <td>1.1</td>\n",
       "      <td>39.3</td>\n",
       "    </tr>\n",
       "    <tr>\n",
       "      <th>4</th>\n",
       "      <td>1.3</td>\n",
       "      <td>46.2</td>\n",
       "    </tr>\n",
       "    <tr>\n",
       "      <th>5</th>\n",
       "      <td>1.5</td>\n",
       "      <td>37.7</td>\n",
       "    </tr>\n",
       "    <tr>\n",
       "      <th>6</th>\n",
       "      <td>2.0</td>\n",
       "      <td>43.5</td>\n",
       "    </tr>\n",
       "    <tr>\n",
       "      <th>7</th>\n",
       "      <td>2.2</td>\n",
       "      <td>39.8</td>\n",
       "    </tr>\n",
       "    <tr>\n",
       "      <th>8</th>\n",
       "      <td>2.9</td>\n",
       "      <td>56.6</td>\n",
       "    </tr>\n",
       "    <tr>\n",
       "      <th>9</th>\n",
       "      <td>3.0</td>\n",
       "      <td>60.1</td>\n",
       "    </tr>\n",
       "    <tr>\n",
       "      <th>10</th>\n",
       "      <td>3.2</td>\n",
       "      <td>54.4</td>\n",
       "    </tr>\n",
       "    <tr>\n",
       "      <th>11</th>\n",
       "      <td>3.2</td>\n",
       "      <td>64.4</td>\n",
       "    </tr>\n",
       "    <tr>\n",
       "      <th>12</th>\n",
       "      <td>3.7</td>\n",
       "      <td>57.1</td>\n",
       "    </tr>\n",
       "    <tr>\n",
       "      <th>13</th>\n",
       "      <td>3.9</td>\n",
       "      <td>63.2</td>\n",
       "    </tr>\n",
       "    <tr>\n",
       "      <th>14</th>\n",
       "      <td>4.0</td>\n",
       "      <td>55.7</td>\n",
       "    </tr>\n",
       "    <tr>\n",
       "      <th>15</th>\n",
       "      <td>4.0</td>\n",
       "      <td>56.9</td>\n",
       "    </tr>\n",
       "    <tr>\n",
       "      <th>16</th>\n",
       "      <td>4.1</td>\n",
       "      <td>57.0</td>\n",
       "    </tr>\n",
       "    <tr>\n",
       "      <th>17</th>\n",
       "      <td>4.5</td>\n",
       "      <td>61.1</td>\n",
       "    </tr>\n",
       "    <tr>\n",
       "      <th>18</th>\n",
       "      <td>4.9</td>\n",
       "      <td>67.9</td>\n",
       "    </tr>\n",
       "    <tr>\n",
       "      <th>19</th>\n",
       "      <td>5.1</td>\n",
       "      <td>66.0</td>\n",
       "    </tr>\n",
       "    <tr>\n",
       "      <th>20</th>\n",
       "      <td>5.3</td>\n",
       "      <td>83.0</td>\n",
       "    </tr>\n",
       "    <tr>\n",
       "      <th>21</th>\n",
       "      <td>5.9</td>\n",
       "      <td>81.3</td>\n",
       "    </tr>\n",
       "    <tr>\n",
       "      <th>22</th>\n",
       "      <td>6.0</td>\n",
       "      <td>93.9</td>\n",
       "    </tr>\n",
       "    <tr>\n",
       "      <th>23</th>\n",
       "      <td>6.8</td>\n",
       "      <td>91.7</td>\n",
       "    </tr>\n",
       "    <tr>\n",
       "      <th>24</th>\n",
       "      <td>7.1</td>\n",
       "      <td>98.2</td>\n",
       "    </tr>\n",
       "    <tr>\n",
       "      <th>25</th>\n",
       "      <td>7.9</td>\n",
       "      <td>101.3</td>\n",
       "    </tr>\n",
       "    <tr>\n",
       "      <th>26</th>\n",
       "      <td>8.2</td>\n",
       "      <td>113.8</td>\n",
       "    </tr>\n",
       "    <tr>\n",
       "      <th>27</th>\n",
       "      <td>8.7</td>\n",
       "      <td>109.4</td>\n",
       "    </tr>\n",
       "    <tr>\n",
       "      <th>28</th>\n",
       "      <td>9.0</td>\n",
       "      <td>105.5</td>\n",
       "    </tr>\n",
       "    <tr>\n",
       "      <th>29</th>\n",
       "      <td>9.5</td>\n",
       "      <td>116.9</td>\n",
       "    </tr>\n",
       "    <tr>\n",
       "      <th>30</th>\n",
       "      <td>9.6</td>\n",
       "      <td>112.6</td>\n",
       "    </tr>\n",
       "    <tr>\n",
       "      <th>31</th>\n",
       "      <td>10.3</td>\n",
       "      <td>122.3</td>\n",
       "    </tr>\n",
       "    <tr>\n",
       "      <th>32</th>\n",
       "      <td>10.5</td>\n",
       "      <td>121.8</td>\n",
       "    </tr>\n",
       "  </tbody>\n",
       "</table>\n",
       "</div>"
      ],
      "text/plain": [
       "    YearsExperience  Salary\n",
       "0               0.3    36.2\n",
       "1               0.6    36.6\n",
       "2               0.8    42.8\n",
       "3               1.1    39.3\n",
       "4               1.3    46.2\n",
       "5               1.5    37.7\n",
       "6               2.0    43.5\n",
       "7               2.2    39.8\n",
       "8               2.9    56.6\n",
       "9               3.0    60.1\n",
       "10              3.2    54.4\n",
       "11              3.2    64.4\n",
       "12              3.7    57.1\n",
       "13              3.9    63.2\n",
       "14              4.0    55.7\n",
       "15              4.0    56.9\n",
       "16              4.1    57.0\n",
       "17              4.5    61.1\n",
       "18              4.9    67.9\n",
       "19              5.1    66.0\n",
       "20              5.3    83.0\n",
       "21              5.9    81.3\n",
       "22              6.0    93.9\n",
       "23              6.8    91.7\n",
       "24              7.1    98.2\n",
       "25              7.9   101.3\n",
       "26              8.2   113.8\n",
       "27              8.7   109.4\n",
       "28              9.0   105.5\n",
       "29              9.5   116.9\n",
       "30              9.6   112.6\n",
       "31             10.3   122.3\n",
       "32             10.5   121.8"
      ]
     },
     "execution_count": 1,
     "metadata": {},
     "output_type": "execute_result"
    }
   ],
   "source": [
    "import pandas as pd\n",
    "\n",
    "data = pd.read_csv('Salary_Data.csv')\n",
    "\n",
    "\n",
    "x = data[\"YearsExperience\"]\n",
    "y = data[\"Salary\"]\n",
    "data"
   ]
  },
  {
   "cell_type": "markdown",
   "id": "4263187d",
   "metadata": {},
   "source": [
    "## 2. Convert the data format to Torch"
   ]
  },
  {
   "cell_type": "code",
   "execution_count": 2,
   "id": "7df6efb8",
   "metadata": {},
   "outputs": [
    {
     "name": "stdout",
     "output_type": "stream",
     "text": [
      " Training data of x: \n",
      " tensor([ 6.8000,  4.1000,  7.1000,  0.8000,  3.2000,  9.5000,  1.5000,  2.2000,\n",
      "         4.5000,  4.9000,  5.3000,  1.1000,  8.2000,  2.9000,  3.2000,  4.0000,\n",
      "         7.9000,  3.0000,  0.3000,  5.1000,  9.0000,  2.0000, 10.3000,  4.0000,\n",
      "         8.7000,  3.9000], dtype=torch.float64)\n",
      "\n",
      " Test data of y: \n",
      " tensor([ 6.0000, 10.5000,  0.6000,  5.9000,  9.6000,  3.7000,  1.3000],\n",
      "       dtype=torch.float64)\n",
      "\n",
      " Training data of y: \n",
      " tensor([ 91.7000,  57.0000,  98.2000,  42.8000,  64.4000, 116.9000,  37.7000,\n",
      "         39.8000,  61.1000,  67.9000,  83.0000,  39.3000, 113.8000,  56.6000,\n",
      "         54.4000,  55.7000, 101.3000,  60.1000,  36.2000,  66.0000, 105.5000,\n",
      "         43.5000, 122.3000,  56.9000, 109.4000,  63.2000], dtype=torch.float64)\n",
      "\n",
      " Test data of y: \n",
      " tensor([ 93.9000, 121.8000,  36.6000,  81.3000, 112.6000,  57.1000,  46.2000],\n",
      "       dtype=torch.float64)\n"
     ]
    }
   ],
   "source": [
    "from sklearn.model_selection import train_test_split\n",
    "import torch\n",
    "\n",
    "# Split data\n",
    "x_train, x_test, y_train, y_test = train_test_split(x, y, test_size=0.2, random_state=87) #test data makes up 20%\n",
    "\n",
    "\n",
    "# Load data in the form of numpy\n",
    "x_train = x_train.to_numpy()\n",
    "x_test = x_test.to_numpy()\n",
    "y_train = y_train.to_numpy()\n",
    "y_test = y_test.to_numpy()\n",
    "\n",
    "# Load data in the form of torch\n",
    "x_train = torch.from_numpy(x_train)\n",
    "x_test = torch.from_numpy(x_test)\n",
    "y_train = torch.from_numpy(y_train)\n",
    "y_test = torch.from_numpy(y_test)\n",
    "\n",
    "print(f\" Training data of x: \\n {x_train}\\n\")\n",
    "print(f\" Test data of y: \\n {x_test}\\n\")\n",
    "print(f\" Training data of y: \\n {y_train}\\n\")\n",
    "print(f\" Test data of y: \\n {y_test}\")"
   ]
  },
  {
   "cell_type": "markdown",
   "id": "ddf1e726",
   "metadata": {},
   "source": [
    "## 3. Create linear layers with PyTorch (weight and bias)"
   ]
  },
  {
   "cell_type": "markdown",
   "id": "281f09c5",
   "metadata": {},
   "source": [
    "### 3.1 Design a linear regression model with a PyTorch neural network module \n",
    "1. Create layers with a PyTorch module (nn.Linear)\n",
    "2. in_features: input sample size, out_features: output sample size"
   ]
  },
  {
   "cell_type": "code",
   "execution_count": 3,
   "id": "9960bd9d",
   "metadata": {},
   "outputs": [],
   "source": [
    "from torch import nn                 #import neural network\n",
    "\n",
    "class LinearRegressionModel(nn.Module):\n",
    "    def __init__(self):\n",
    "        super().__init__()\n",
    "        self.linear_layer = nn.Linear(in_features=1, out_features=1, dtype=torch.float64) #Set features (layer)\n",
    "        \n",
    "    def forward(self, x):            # Input x values here and use them to predict y values (y_pred)\n",
    "        return self.linear_layer(x) "
   ]
  },
  {
   "cell_type": "markdown",
   "id": "64a78dd5",
   "metadata": {},
   "source": [
    "### 3.2 Review w and b parameters in the linear Regression model"
   ]
  },
  {
   "cell_type": "code",
   "execution_count": 4,
   "id": "4305208c",
   "metadata": {},
   "outputs": [
    {
     "data": {
      "text/plain": [
       "OrderedDict([('linear_layer.weight', tensor([[-0.9419]], dtype=torch.float64)),\n",
       "             ('linear_layer.bias', tensor([0.2761], dtype=torch.float64))])"
      ]
     },
     "execution_count": 4,
     "metadata": {},
     "output_type": "execute_result"
    }
   ],
   "source": [
    "torch.manual_seed(87)                #Fix w and b values for the following observation and analysis\n",
    "\n",
    "model = LinearRegressionModel()  #Review the LinearRegressionModel function above\n",
    "\n",
    "#list(model.parameters())          #Present model parameters in a list\n",
    "model.state_dict()                 #Present model parameters in a dict"
   ]
  },
  {
   "cell_type": "markdown",
   "id": "fd671023",
   "metadata": {},
   "source": [
    "### 3.3 Input x_test values into the model above and observe its results (y_pred = w*x_test + b)"
   ]
  },
  {
   "cell_type": "code",
   "execution_count": 5,
   "id": "db429eea",
   "metadata": {},
   "outputs": [
    {
     "data": {
      "text/plain": [
       "tensor([[-5.3755],\n",
       "        [-9.6141],\n",
       "        [-0.2891],\n",
       "        [-5.2813],\n",
       "        [-8.7664],\n",
       "        [-3.2090],\n",
       "        [-0.9484]], dtype=torch.float64, grad_fn=<AddmmBackward0>)"
      ]
     },
     "execution_count": 5,
     "metadata": {},
     "output_type": "execute_result"
    }
   ],
   "source": [
    "x_test_reshaped = x_test.reshape(-1,1) \n",
    "model(x_test_reshaped) # model(x_test) = y_pred = w * x_test + b"
   ]
  },
  {
   "cell_type": "markdown",
   "id": "2e8cc365",
   "metadata": {},
   "source": [
    "### 3.4 Review predicted and real data (y_pred and y_test)"
   ]
  },
  {
   "cell_type": "code",
   "execution_count": 6,
   "id": "7f971cc8",
   "metadata": {},
   "outputs": [
    {
     "name": "stdout",
     "output_type": "stream",
     "text": [
      "tensor([[-5.3755],\n",
      "        [-9.6141],\n",
      "        [-0.2891],\n",
      "        [-5.2813],\n",
      "        [-8.7664],\n",
      "        [-3.2090],\n",
      "        [-0.9484]], dtype=torch.float64, grad_fn=<AddmmBackward0>)\n",
      "tensor([[ 93.9000],\n",
      "        [121.8000],\n",
      "        [ 36.6000],\n",
      "        [ 81.3000],\n",
      "        [112.6000],\n",
      "        [ 57.1000],\n",
      "        [ 46.2000]], dtype=torch.float64)\n"
     ]
    }
   ],
   "source": [
    "y_pred_reshaped = model(x_test_reshaped)\n",
    "\n",
    "y_test_reshaped = y_test.reshape(-1,1)\n",
    "\n",
    "print(y_pred_reshaped) \n",
    "print(y_test_reshaped)"
   ]
  },
  {
   "cell_type": "markdown",
   "id": "a84e5c30",
   "metadata": {},
   "source": [
    "## 4. Create a cost function\n",
    "1. Create a cost function with MSE (Mean Squared Error) in nn.MSELoss() .\n",
    "2. View the initial cost value prior to the introduction of an optimizer"
   ]
  },
  {
   "cell_type": "code",
   "execution_count": 7,
   "id": "3a535c72",
   "metadata": {
    "scrolled": true
   },
   "outputs": [
    {
     "name": "stdout",
     "output_type": "stream",
     "text": [
      "The average cost between prediced and real y values is:\n",
      " 8081.763783579004\n"
     ]
    }
   ],
   "source": [
    "cost_function = nn.MSELoss() \n",
    "x_test = x_test.reshape(-1,1)\n",
    "\n",
    "y_pred_reshaped = model(x_test)\n",
    "print(f\"The average cost between prediced and real y values is:\\n {cost_function(y_pred_reshaped, y_test_reshaped)}\")"
   ]
  },
  {
   "cell_type": "markdown",
   "id": "687bb896",
   "metadata": {},
   "source": [
    "## 5. Convert the matrix of data"
   ]
  },
  {
   "cell_type": "code",
   "execution_count": 8,
   "id": "ee008a7f",
   "metadata": {},
   "outputs": [
    {
     "name": "stdout",
     "output_type": "stream",
     "text": [
      "The original shape of data is as follows.\n",
      "torch.Size([26]) torch.Size([26]) torch.Size([7, 1]) torch.Size([7])\n",
      "------------------------------------------------------------------------------\n",
      "The new shape of data is as follows.\n",
      "torch.Size([26, 1]) torch.Size([26, 1]) torch.Size([7, 1]) torch.Size([7, 1])\n"
     ]
    }
   ],
   "source": [
    "print(\"The original shape of data is as follows.\")\n",
    "print(x_train.shape, y_train.shape, x_test.shape, y_test.shape)\n",
    "x_train = x_train.reshape(-1, 1)\n",
    "y_train = y_train.reshape(-1, 1)\n",
    "x_test = x_test.reshape(-1, 1)\n",
    "y_test = y_test.reshape(-1, 1)\n",
    "\n",
    "print(\"------------------------------------------------------------------------------\")\n",
    "print(\"The new shape of data is as follows.\")\n",
    "print(x_train.shape, y_train.shape, x_test.shape, y_test.shape)"
   ]
  },
  {
   "cell_type": "markdown",
   "id": "e51d9a0f",
   "metadata": {},
   "source": [
    "## 6. Create an optimizer\n",
    "1. Reference to PyTorch optimizers: https://pytorch.org/docs/stable/optim.html \n",
    "2. Using SGD (Stochastic Gradient Descent) as an optimizer"
   ]
  },
  {
   "cell_type": "code",
   "execution_count": 9,
   "id": "bc110393",
   "metadata": {
    "scrolled": true
   },
   "outputs": [],
   "source": [
    "# Import an optimizer and calculate costs\n",
    "\n",
    "from torch import optim \n",
    "optimizer = optim.SGD(params = model.parameters(), lr=0.001, momentum=0) #lr: learning rate"
   ]
  },
  {
   "cell_type": "markdown",
   "id": "6b44540e",
   "metadata": {},
   "source": [
    "## 7. Review changes in w and b values before/after an optimizer is used\n",
    "Description: as we can see in the following printed values, there is a downward trend in costs."
   ]
  },
  {
   "cell_type": "code",
   "execution_count": 10,
   "id": "48e742c0",
   "metadata": {},
   "outputs": [
    {
     "name": "stdout",
     "output_type": "stream",
     "text": [
      "OrderedDict([('linear_layer.weight', tensor([[-0.9419]], dtype=torch.float64)), ('linear_layer.bias', tensor([0.2761], dtype=torch.float64))])\n",
      "tensor(6515.9517, dtype=torch.float64, grad_fn=<MseLossBackward0>)\n",
      "------------------------------------------------------------------------------\n",
      "OrderedDict([('linear_layer.weight', tensor([[-0.0652]], dtype=torch.float64)), ('linear_layer.bias', tensor([0.4264], dtype=torch.float64))])\n",
      "tensor(5749.4774, dtype=torch.float64, grad_fn=<MseLossBackward0>)\n"
     ]
    }
   ],
   "source": [
    "y_pred = model(x_train)\n",
    "cost = cost_function(y_pred, y_train) #Review the cost between y_pred and y_train data\n",
    "print(model.state_dict())\n",
    "print(cost)\n",
    "print(\"------------------------------------------------------------------------------\")\n",
    "\n",
    "#Use an optimizer\n",
    "optimizer.zero_grad()    #Set the gradient to zero\n",
    "cost.backward()          #Calculate the gradient \n",
    "optimizer.step()         #Update gradient values \n",
    "\n",
    "y_pred = model(x_train)\n",
    "cost = cost_function(y_pred, y_train) #Review the cost between y_pred and y_train data\n",
    "print(model.state_dict())\n",
    "print(cost)"
   ]
  },
  {
   "cell_type": "markdown",
   "id": "8e2bbf95",
   "metadata": {},
   "source": [
    "### 7.1 Create a for loop to update values of cost, w, and b\n",
    "1. Train the linear regression model with the datasets of x_train and x_test\n",
    "2. Use .detach().numpy() to convert tensor forms into numpy for data visualization"
   ]
  },
  {
   "cell_type": "code",
   "execution_count": 11,
   "id": "102779f2",
   "metadata": {
    "scrolled": true
   },
   "outputs": [
    {
     "name": "stdout",
     "output_type": "stream",
     "text": [
      "Epoch:   0 | Train cost:    5749.477439184468 | Test cost: 6236.85980402337\n",
      "Epoch: 1000 | Train cost:      87.448287304345 | Test cost: 155.663532603608\n",
      "Epoch: 2000 | Train cost:    52.47290765539443 | Test cost: 90.58846625112561\n",
      "Epoch: 3000 | Train cost:     39.7979721685612 | Test cost: 62.07787087634113\n",
      "Epoch: 4000 | Train cost:    35.20462704385137 | Test cost: 48.77933120367116\n",
      "Epoch: 5000 | Train cost:    33.54001743249564 | Test cost: 42.174232044343675\n",
      "Epoch: 6000 | Train cost:    32.93676967231501 | Test cost: 38.70555393136441\n",
      "Epoch: 7000 | Train cost:     32.7181551349001 | Test cost: 36.80136603312115\n",
      "Epoch: 8000 | Train cost:    32.63893011472791 | Test cost: 35.721714277259345\n",
      "Epoch: 9000 | Train cost:    32.61021928929288 | Test cost: 35.095927233942795\n",
      "Epoch: 10000 | Train cost:   32.599814602801544 | Test cost: 34.72796169113581\n",
      "Epoch: 11000 | Train cost:    32.59604398668924 | Test cost: 34.50962133667884\n",
      "Epoch: 12000 | Train cost:   32.594677530729385 | Test cost: 34.379331584156326\n",
      "Epoch: 13000 | Train cost:    32.59418233264117 | Test cost: 34.30131466454027\n",
      "Epoch: 14000 | Train cost:    32.59400287486589 | Test cost: 34.25449998962895\n",
      "Epoch: 15000 | Train cost:    32.59393784009722 | Test cost: 34.22637258636194\n",
      "Epoch: 16000 | Train cost:    32.59391427176129 | Test cost: 34.20945990736488\n",
      "Epoch: 17000 | Train cost:    32.59390573069209 | Test cost: 34.19928577396528\n",
      "Epoch: 18000 | Train cost:   32.593902635443314 | Test cost: 34.193163618004455\n",
      "Epoch: 19000 | Train cost:   32.593901513737755 | Test cost: 34.189479064870355\n",
      "Epoch: 20000 | Train cost:    32.59390110723619 | Test cost: 34.18726133057148\n",
      "Epoch: 21000 | Train cost:   32.593900959921704 | Test cost: 34.18592639331945\n",
      "Epoch: 22000 | Train cost:    32.59390090653551 | Test cost: 34.185122814950134\n",
      "Epoch: 23000 | Train cost:    32.59390088718857 | Test cost: 34.18463908243093\n",
      "Epoch: 24000 | Train cost:    32.59390088017733 | Test cost: 34.18434788459271\n",
      "Epoch: 25000 | Train cost:    32.59390087763649 | Test cost: 34.184172587581934\n",
      "Epoch: 26000 | Train cost:    32.59390087671569 | Test cost: 34.184067060730065\n",
      "Epoch: 27000 | Train cost:      32.593900876382 | Test cost: 34.18400353455248\n",
      "Epoch: 28000 | Train cost:    32.59390087626106 | Test cost: 34.18396529232076\n",
      "Epoch: 29000 | Train cost:    32.59390087621724 | Test cost: 34.18394227079046\n"
     ]
    }
   ],
   "source": [
    "epochs = range(30000)\n",
    "\n",
    "test_cost_hist = []  #Calculate the cost of test datasets\n",
    "train_cost_hist = [] #Calculate the cost of train datasets\n",
    "\n",
    "for Epoch in epochs:\n",
    "    \n",
    "    #Set a training mode\n",
    "    model.train()        \n",
    "    y_pred = model(x_train) \n",
    "    train_cost = cost_function(y_pred, y_train)\n",
    "    train_cost_hist.append(train_cost.detach().numpy())  \n",
    "    \n",
    "    \n",
    "    optimizer.zero_grad()    #Set the gradient to zero\n",
    "    train_cost.backward()    #Calculate the gradient \n",
    "    optimizer.step()         #Update gradient values \n",
    "    \n",
    "    #Set an evaluation mode\n",
    "    model.eval()             \n",
    "    with torch.inference_mode():\n",
    "        test_pred = model(x_test)\n",
    "        test_cost = cost_function(test_pred, y_test)\n",
    "        test_cost_hist.append(test_cost.detach().numpy())\n",
    "    \n",
    "    if Epoch%1000==0:\n",
    "        print(f\"Epoch: {Epoch:3} | Train cost: {train_cost:20} | Test cost: {test_cost}\")"
   ]
  },
  {
   "cell_type": "markdown",
   "id": "244d5a15",
   "metadata": {},
   "source": [
    "## 8. Visualize how the cost changes in each epoch"
   ]
  },
  {
   "cell_type": "code",
   "execution_count": 12,
   "id": "83220545",
   "metadata": {},
   "outputs": [
    {
     "data": {
      "image/png": "[encoded data removed]",
      "text/plain": [
       "<Figure size 640x480 with 1 Axes>"
      ]
     },
     "metadata": {},
     "output_type": "display_data"
    },
    {
     "name": "stdout",
     "output_type": "stream",
     "text": [
      "The optimal values of w and b are: 9.33 and 26.63.\n"
     ]
    }
   ],
   "source": [
    "import matplotlib.pyplot as plt\n",
    "\n",
    "plt.plot(epochs, test_cost_hist, label =\"test-data cost\")\n",
    "plt.plot(epochs, train_cost_hist, label =\"train-data cost\")\n",
    "plt.title(\"Cost in each Epoch\")\n",
    "plt.xlabel(\"Epoch\")\n",
    "plt.ylabel(\"Cost\")\n",
    "plt.legend()\n",
    "plt.show()\n",
    "\n",
    "print(f\"The optimal values of w and b are: {round(float(model.linear_layer.weight.detach().numpy()),2)} and {round(float(model.linear_layer.bias.detach().numpy()),2)}.\")\n"
   ]
  },
  {
   "cell_type": "markdown",
   "id": "6478e69f",
   "metadata": {},
   "source": [
    "# 9. Calculate the accuracy of the simple linear regression model above\n",
    "1. Convert the array format to float\n",
    "2. Calcuate the Coefficient of Determination (R^2) between predicted and real y values."
   ]
  },
  {
   "cell_type": "code",
   "execution_count": 13,
   "id": "dad24196",
   "metadata": {},
   "outputs": [],
   "source": [
    "#Convert the array format to float\n",
    "float_w = float(model.linear_layer.weight.detach().numpy())\n",
    "float_b = float(model.linear_layer.bias.detach().numpy())"
   ]
  },
  {
   "cell_type": "code",
   "execution_count": 14,
   "id": "42738184",
   "metadata": {
    "scrolled": true
   },
   "outputs": [
    {
     "name": "stdout",
     "output_type": "stream",
     "text": [
      "The following list shows predicted y values with optimal w and b values:\n",
      "[29.4, 32.2, 34.1, 36.9, 38.8, 40.6, 45.3, 47.2, 53.7, 54.6, 56.5, 56.5, 61.2, 63.0, 64.0, 64.0, 64.9, 68.6, 72.3, 74.2, 76.1, 81.7, 82.6, 90.1, 92.9, 100.3, 103.1, 107.8, 110.6, 115.3, 116.2, 122.7, 124.6]\n"
     ]
    }
   ],
   "source": [
    "list_of_y_predicted = []\n",
    "for i in x:\n",
    "    y_predicted = float_w * i + float_b\n",
    "    y_predicted = round(y_predicted, 1)\n",
    "    # print(y_predicted)\n",
    "    list_of_y_predicted.append(y_predicted)\n",
    "print(\"The following list shows predicted y values with optimal w and b values:\")\n",
    "print(list_of_y_predicted)"
   ]
  },
  {
   "cell_type": "code",
   "execution_count": 15,
   "id": "0e62fa5c",
   "metadata": {},
   "outputs": [
    {
     "name": "stdout",
     "output_type": "stream",
     "text": [
      "The R^2 score of the simple linear regression model above is about: 0.958.\n"
     ]
    }
   ],
   "source": [
    "import numpy as np\n",
    "\n",
    "y_real = y                              #Load original real y data\n",
    "y_pred = np.array(list_of_y_predicted)\n",
    "\n",
    "# Coefficient of Determination (R^2)\n",
    "ss_total = np.sum((y_real - np.mean(y_real)) ** 2)\n",
    "ss_residual = np.sum((y_real - y_pred) ** 2)\n",
    "r2_score = (1 - (ss_residual / ss_total)) \n",
    "r2_score = round(r2_score, 3)\n",
    "print(f\"The R^2 score of the simple linear regression model above is about: {r2_score}.\")"
   ]
  },
  {
   "cell_type": "markdown",
   "id": "8b2ee819",
   "metadata": {},
   "source": [
    "# Conclusion\n",
    "In this trial, after 30,000 epochs, the optimal weight and optimal bias value are about 9.33 and 26.63, respectively. With 32 salary datasets, the  Coefficient of Determination (R^2) score of this model is estimated to be about 95.8%."
   ]
  }
 ],
 "metadata": {
  "kernelspec": {
   "display_name": "Python 3 (ipykernel)",
   "language": "python",
   "name": "python3"
  },
  "language_info": {
   "codemirror_mode": {
    "name": "ipython",
    "version": 3
   },
   "file_extension": ".py",
   "mimetype": "text/x-python",
   "name": "python",
   "nbconvert_exporter": "python",
   "pygments_lexer": "ipython3",
   "version": "3.11.6"
  }
 },
 "nbformat": 4,
 "nbformat_minor": 5
}
